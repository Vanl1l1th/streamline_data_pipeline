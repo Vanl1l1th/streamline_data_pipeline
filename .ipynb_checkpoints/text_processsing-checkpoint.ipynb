{
 "cells": [
  {
   "cell_type": "markdown",
   "id": "72b9841f-e89d-4db8-9b66-b9e18411fc13",
   "metadata": {},
   "source": [
    "Dataset used:\n",
    "https://www.kaggle.com/datasets/nelgiriyewithana/emotions?resource=download"
   ]
  },
  {
   "cell_type": "code",
   "execution_count": 41,
   "id": "3a67be52-3dc1-4611-a1e4-4f34bf40a638",
   "metadata": {},
   "outputs": [],
   "source": [
    "import numpy as np\n",
    "import pandas as pd\n",
    "from sklearn.feature_extraction.text import TfidfVectorizer\n",
    "from sklearn.neural_network import BernoulliRBM\n",
    "from sklearn.decomposition import TruncatedSVD\n",
    "import matplotlib.pyplot as plt\n",
    "import math"
   ]
  },
  {
   "cell_type": "code",
   "execution_count": 31,
   "id": "cf2d5be2-0303-4d49-a5cb-13a180131941",
   "metadata": {},
   "outputs": [
    {
     "name": "stdout",
     "output_type": "stream",
     "text": [
      "(6000, 8629)\n",
      "  (0, 3461)\t0.6141102783550794\n",
      "  (0, 3472)\t0.566848057663222\n",
      "  (0, 3492)\t0.4115726529338371\n",
      "  (0, 6087)\t0.26079051510725043\n",
      "  (0, 2808)\t0.09649381513594675\n",
      "  (0, 4114)\t0.23417311495918472\n"
     ]
    }
   ],
   "source": [
    "df = pd.read_csv('text_data/twitter_posts.csv', usecols=['text'],dtype=str, nrows=6000)\n",
    "text_data = df['text']\n",
    "vectorizer = TfidfVectorizer(stop_words=\"english\")\n",
    "X_train = vectorizer.fit_transform(text_data)\n",
    "print(X_train.shape)\n",
    "print(X_train[0])"
   ]
  },
  {
   "cell_type": "code",
   "execution_count": 32,
   "id": "e08d8cb1-3ea4-436f-aa04-929ca30ead7f",
   "metadata": {},
   "outputs": [
    {
     "name": "stdout",
     "output_type": "stream",
     "text": [
      "TF-IDF Values for New Text:\n",
      "felt: 0.3216\n",
      "morning: 0.3607\n",
      "park: 0.5140\n",
      "really: 0.2286\n",
      "relaxing: 0.5140\n",
      "walking: 0.4311\n"
     ]
    }
   ],
   "source": [
    "new_text = [\"I was walking through the park this morning it felt really relaxing.\"]\n",
    "text_transform = vectorizer.transform(new_text)\n",
    "feature_names = vectorizer.get_feature_names_out()\n",
    "dense_array = text_transform.toarray()[0]  # Convert to array\n",
    "word_tfidf = {feature_names[i]: dense_array[i] for i in range(len(feature_names)) if dense_array[i] > 0}\n",
    "\n",
    "# Print results\n",
    "print(\"TF-IDF Values for New Text:\")\n",
    "for word, tfidf_value in word_tfidf.items():\n",
    "    print(f\"{word}: {tfidf_value:.4f}\")"
   ]
  },
  {
   "cell_type": "code",
   "execution_count": 40,
   "id": "675b68fe-b1f0-400b-bca6-32b783509fbb",
   "metadata": {},
   "outputs": [
    {
     "name": "stdout",
     "output_type": "stream",
     "text": [
      "[BernoulliRBM] Iteration 1, pseudo-likelihood = -4853.23, time = 1.09s\n",
      "[BernoulliRBM] Iteration 2, pseudo-likelihood = -4017.81, time = 1.07s\n",
      "[BernoulliRBM] Iteration 3, pseudo-likelihood = -3386.52, time = 1.07s\n",
      "[[0.75264273 0.75435713 0.7529617 ]]\n"
     ]
    }
   ],
   "source": [
    "rbm = BernoulliRBM(n_components=3, learning_rate=0.001,n_iter=3, random_state=0, verbose=True)\n",
    "rbm.fit(X_train)\n",
    "text_encoded = rbm.transform(text_transform)\n",
    "print(text_encoded)"
   ]
  },
  {
   "cell_type": "code",
   "execution_count": null,
   "id": "54373220-0831-49dc-8b85-8aa41d6bca48",
   "metadata": {},
   "outputs": [],
   "source": []
  }
 ],
 "metadata": {
  "firstTimeUsingHintbot": true,
  "kernelspec": {
   "display_name": "Python 3 (ipykernel)",
   "language": "python",
   "name": "python3"
  },
  "language_info": {
   "codemirror_mode": {
    "name": "ipython",
    "version": 3
   },
   "file_extension": ".py",
   "mimetype": "text/x-python",
   "name": "python",
   "nbconvert_exporter": "python",
   "pygments_lexer": "ipython3",
   "version": "3.9.13"
  }
 },
 "nbformat": 4,
 "nbformat_minor": 5
}
